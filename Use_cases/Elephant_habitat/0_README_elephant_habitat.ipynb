{
 "cells": [
  {
   "cell_type": "markdown",
   "metadata": {},
   "source": [
    "# Elephant Habitat Suitability Model - Background"
   ]
  },
  {
   "cell_type": "raw",
   "metadata": {
    "raw_mimetype": "text/restructuredtext"
   },
   "source": [
    "**Keywords** :index:`elephants`"
   ]
  },
  {
   "cell_type": "code",
   "execution_count": 1,
   "metadata": {},
   "outputs": [],
   "source": [
    "import datacube"
   ]
  },
  {
   "cell_type": "markdown",
   "metadata": {
    "tags": []
   },
   "source": [
    "## Background\n",
    "\n",
    "Habitat Suitability Models (HSMs) enable estimation of habitats suitable for certain species in space. This example uses rules defined for elephants based on research conducted by Rachael Gross from the Australian National University. \n",
    "\n",
    "The final HSM illustrates the suitability of locations in space for elephant habitat on a scale of 0-1. It is comprised of 4 sub-models relating to:\n",
    "   1. Forests\n",
    "   2. Other vegetation\n",
    "   3. Human presence\n",
    "   4. Seasonal water\n",
    "   5. Permanent water\n",
    "   \n",
    "Each of the sub-models are calculated from products listed in the tables below. The sub-models and the final model are calculated using Weighted Linear Combination, which is a [widely applied method in GIS analyses](https://onlinelibrary.wiley.com/doi/10.1111/1467-9671.00035).\n",
    "\n",
    "The method works by applying different weightings to spatial layers to be combined. The weights are determined by researchers' domain knowledge and existing scientific knowledge, in this case on habitat preferences for elephants.\n",
    "\n",
    "The tables below shows data products used for the sub-models, weightings of each sub-model layer, and weighting of each sub-model in the final model."
   ]
  },
  {
   "cell_type": "markdown",
   "metadata": {},
   "source": [
    "# Sub-models\n",
    "\n",
    "## Forest\n",
    "\n",
    "Data layer | Layer weighting |\n",
    "-----------: | -----------: |\n",
    "Closed forest evergreen (CGLS 111 & 112) | 16.7% | \n",
    "Closed forest mixed (CGLS 115 & 116) | 16.7% |\n",
    "Open forest evergreen (CGLS 121 & 122) | 16.7% | \n",
    "Open forest deciduous (CGLS 123 & 124) | 16.7% |\n",
    "Closed forest deciduous (CGLS 113 & 114) | 16.7% |\n",
    "Open forest mixed (CGLS 125 & 126) | 16.7% |\n",
    "\n",
    "## Other vegetation\n",
    "\n",
    "Data layer | Layer weighting |\n",
    "-----------: | -----------: |\n",
    "Shrubs & herbaceous vegetation (CGLS 20 & 30) | 33.3% | \n",
    "Bare ground (CGLS 60) | 33.3% |\n",
    "Herbaceous wetland (CGLS 90) | 33.3% |\n",
    "\n",
    "## Human presence\n",
    "\n",
    "Data layer | Layer weighting |\n",
    "-----------: | -----------: |\n",
    "Urban development (CGLS 50) | 25% | \n",
    "Cropland (CGLS 40) | 25% |\n",
    "Human population density | 25% |\n",
    "Roads | 25% |\n",
    "\n",
    "## Seasonal water\n",
    "\n",
    "Data layer | Layer weighting |\n",
    "-----------: | -----------: |\n",
    "Seasonal water | 100% |\n",
    "\n",
    "## Permanent water\n",
    "\n",
    "Data layer | Layer weighting |\n",
    "-----------: | -----------: |\n",
    "Permanent water | 100% |"
   ]
  },
  {
   "cell_type": "markdown",
   "metadata": {},
   "source": [
    "# Final Model\n",
    "\n",
    "## Water\n",
    "\n",
    "Sub-model | Layer weighting |\n",
    "-----------: | -----------: |\n",
    "Forests | 20% | \n",
    "Other vegetation | 20% |\n",
    "Human presence | 20% |\n",
    "Seasonal water | 20% |\n",
    "Permanent water | 20% |"
   ]
  },
  {
   "cell_type": "markdown",
   "metadata": {},
   "source": [
    "# Workflow design\n",
    "\n",
    "This use case divides the workflows into separate Jupyter Notebooks for each of the sub-models, then a final notebook calculates and presents the habitat suitability model.\n",
    "\n",
    "To run the entire workflow, each notebook must be run in its entirety. "
   ]
  },
  {
   "cell_type": "markdown",
   "metadata": {},
   "source": [
    "---\n",
    "\n",
    "## Additional information\n",
    "\n",
    "**License:** The code in this notebook is licensed under the [Apache License, Version 2.0](https://www.apache.org/licenses/LICENSE-2.0). \n",
    "Digital Earth Africa data is licensed under the [Creative Commons by Attribution 4.0](https://creativecommons.org/licenses/by/4.0/) license.\n",
    "\n",
    "**Contact:** If you need assistance, please post a question on the [Open Data Cube Slack channel](http://slack.opendatacube.org/) or on the [GIS Stack Exchange](https://gis.stackexchange.com/questions/ask?tags=open-data-cube) using the `open-data-cube` tag (you can view previously asked questions [here](https://gis.stackexchange.com/questions/tagged/open-data-cube)).\n",
    "If you would like to report an issue with this notebook, you can file one on [Github](https://github.com/digitalearthafrica/deafrica-sandbox-notebooks).\n",
    "\n",
    "**Compatible datacube version:**"
   ]
  },
  {
   "cell_type": "code",
   "execution_count": 2,
   "metadata": {},
   "outputs": [
    {
     "name": "stdout",
     "output_type": "stream",
     "text": [
      "1.8.8\n"
     ]
    }
   ],
   "source": [
    "print(datacube.__version__)"
   ]
  },
  {
   "cell_type": "markdown",
   "metadata": {},
   "source": [
    "**Last Tested:**"
   ]
  },
  {
   "cell_type": "code",
   "execution_count": 3,
   "metadata": {},
   "outputs": [
    {
     "data": {
      "text/plain": [
       "'2023-04-11'"
      ]
     },
     "execution_count": 3,
     "metadata": {},
     "output_type": "execute_result"
    }
   ],
   "source": [
    "from datetime import datetime\n",
    "datetime.today().strftime('%Y-%m-%d')"
   ]
  }
 ],
 "metadata": {
  "kernelspec": {
   "display_name": "Python 3 (ipykernel)",
   "language": "python",
   "name": "python3"
  },
  "language_info": {
   "codemirror_mode": {
    "name": "ipython",
    "version": 3
   },
   "file_extension": ".py",
   "mimetype": "text/x-python",
   "name": "python",
   "nbconvert_exporter": "python",
   "pygments_lexer": "ipython3",
   "version": "3.8.10"
  },
  "widgets": {
   "application/vnd.jupyter.widget-state+json": {
    "state": {},
    "version_major": 2,
    "version_minor": 0
   }
  }
 },
 "nbformat": 4,
 "nbformat_minor": 4
}
