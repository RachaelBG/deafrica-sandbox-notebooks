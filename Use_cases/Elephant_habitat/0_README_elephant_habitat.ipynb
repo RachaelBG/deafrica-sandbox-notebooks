{
 "cells": [
  {
   "cell_type": "markdown",
   "metadata": {},
   "source": [
    "# Elephant Habitat Suitability Model - Background"
   ]
  },
  {
   "cell_type": "raw",
   "metadata": {
    "raw_mimetype": "text/restructuredtext"
   },
   "source": [
    "**Keywords** :index:`elephants`"
   ]
  },
  {
   "cell_type": "code",
   "execution_count": 1,
   "metadata": {},
   "outputs": [
    {
     "name": "stderr",
     "output_type": "stream",
     "text": [
      "/usr/local/lib/python3.8/dist-packages/geopandas/_compat.py:112: UserWarning: The Shapely GEOS version (3.8.0-CAPI-1.13.1 ) is incompatible with the GEOS version PyGEOS was compiled with (3.10.3-CAPI-1.16.1). Conversions between both will be slow.\n",
      "  warnings.warn(\n"
     ]
    }
   ],
   "source": [
    "import datacube\n",
    "\n",
    "from deafrica_tools.plotting import display_map"
   ]
  },
  {
   "cell_type": "markdown",
   "metadata": {
    "tags": []
   },
   "source": [
    "## Background\n",
    "\n",
    "Habitat Suitability Models (HSMs) enable estimation of habitats suitable for certain species in space. This example uses rules defined for elephants based on research conducted by Rachael Gross from the Australian National University. \n",
    "\n",
    "The final HSM illustrates the suitability of locations in space for elephant habitat on a scale of 0-1. It is calculated from four sub-models relating to:\n",
    "   1. Forests\n",
    "   2. Other vegetation\n",
    "   3. Human presence\n",
    "   4. Seasonal water\n",
    "   5. Permanent water\n",
    "   \n",
    "Each of the sub-models are calculated from products listed in the tables below. For each data layer, the euclidean distance to features (e.g. forests, water, roads) is calculated for all locations in the area of interest and standardised to range from 0-1. Desirable locations, such as water bodies or forests, are allocated a value of 1, while locations distant from such features have values closer to 0. The opposite is true for the human presence sub-model where features such as urban centres are given a value of 0, as these are considered undesirable for elephant habitat. This methodology is a variation of [fuzzy representation of boundaries](https://www.tandfonline.com/doi/abs/10.1080/02693799608902098) which is an established in GIS applications. \n",
    "\n",
    "The sub-models and the final model are calculated using Weighted Linear Combination, which is a [widely applied method in GIS analyses](https://onlinelibrary.wiley.com/doi/10.1111/1467-9671.00035).\n",
    "\n",
    "The method works by applying different weightings to spatial layers to be combined. The weights are determined by researchers' domain knowledge and existing scientific knowledge, in this case on habitat preferences for elephants.\n",
    "\n",
    "The tables below shows data products used for the sub-models, weightings of each sub-model layer, and weighting of each sub-model in the final model."
   ]
  },
  {
   "cell_type": "markdown",
   "metadata": {},
   "source": [
    "## Sub-models\n",
    "\n",
    "### Forest\n",
    "Data layer | Layer weighting |\n",
    "-----------: | -----------: |\n",
    "Closed forest evergreen (CGLS 111 & 112) | 16.7% | \n",
    "Closed forest mixed (CGLS 115 & 116) | 16.7% |\n",
    "Open forest evergreen (CGLS 121 & 122) | 16.7% | \n",
    "Open forest deciduous (CGLS 123 & 124) | 16.7% |\n",
    "Closed forest deciduous (CGLS 113 & 114) | 16.7% |\n",
    "Open forest mixed (CGLS 125 & 126) | 16.7% |\n",
    "\n",
    "### Other vegetation\n",
    "Data layer | Layer weighting |\n",
    "-----------: | -----------: |\n",
    "Shrubs & herbaceous vegetation (CGLS 20 & 30) | 33.3% | \n",
    "Bare ground (CGLS 60) | 33.3% |\n",
    "Herbaceous wetland (CGLS 90) | 33.3% |\n",
    "\n",
    "### Human presence\n",
    "Data layer | Layer weighting |\n",
    "-----------: | -----------: |\n",
    "Urban development (CGLS 50) | 25% | \n",
    "Cropland (CGLS 40) | 25% |\n",
    "Human population density | 25% |\n",
    "Roads | 25% |\n",
    "\n",
    "### Seasonal water\n",
    "Data layer | Layer weighting |\n",
    "-----------: | -----------: |\n",
    "Seasonal water | 100% |\n",
    "\n",
    "### Permanent water\n",
    "Data layer | Layer weighting |\n",
    "-----------: | -----------: |\n",
    "Permanent water | 100% |"
   ]
  },
  {
   "cell_type": "markdown",
   "metadata": {},
   "source": [
    "## Final Model\n",
    "\n",
    "Sub-model | Layer weighting |\n",
    "-----------: | -----------: |\n",
    "Forests | 20% | \n",
    "Other vegetation | 20% |\n",
    "Human presence | 20% |\n",
    "Seasonal water | 20% |\n",
    "Permanent water | 20% |"
   ]
  },
  {
   "cell_type": "markdown",
   "metadata": {},
   "source": [
    "# Workflow design\n",
    "\n",
    "This use case divides the workflows into separate Jupyter Notebooks for each of the sub-models, then a final notebook calculates and presents the habitat suitability model.\n",
    "\n",
    "To run the entire workflow, each notebook must be run in its entirety. "
   ]
  },
  {
   "cell_type": "markdown",
   "metadata": {},
   "source": [
    "## Define area\n",
    "\n",
    "We will define an area of interest and store the details so it can be easily referred to in subsequent notebooks.\n",
    "\n",
    "This workflow brings in data at 200m resolution, so it can handle reasonably large areas spanning several hundreds of kilometres. If you are interested in running the workflow for a different area, you might consider adjusting the resolution of input products, noting the native resolution of CGLS landcover (the main product this workflow draws upon) is 100m."
   ]
  },
  {
   "cell_type": "code",
   "execution_count": 2,
   "metadata": {},
   "outputs": [
    {
     "name": "stdout",
     "output_type": "stream",
     "text": [
      "Stored 'lons' (tuple)\n",
      "Stored 'lats' (tuple)\n"
     ]
    },
    {
     "data": {
      "text/html": [
       "<div style=\"width:100%;\"><div style=\"position:relative;width:100%;height:0;padding-bottom:60%;\"><span style=\"color:#565656\">Make this Notebook Trusted to load map: File -> Trust Notebook</span><iframe srcdoc=\"&lt;!DOCTYPE html&gt;\n",
       "&lt;head&gt;    \n",
       "    &lt;meta http-equiv=&quot;content-type&quot; content=&quot;text/html; charset=UTF-8&quot; /&gt;\n",
       "    \n",
       "        &lt;script&gt;\n",
       "            L_NO_TOUCH = false;\n",
       "            L_DISABLE_3D = false;\n",
       "        &lt;/script&gt;\n",
       "    \n",
       "    &lt;style&gt;html, body {width: 100%;height: 100%;margin: 0;padding: 0;}&lt;/style&gt;\n",
       "    &lt;style&gt;#map {position:absolute;top:0;bottom:0;right:0;left:0;}&lt;/style&gt;\n",
       "    &lt;script src=&quot;https://cdn.jsdelivr.net/npm/leaflet@1.6.0/dist/leaflet.js&quot;&gt;&lt;/script&gt;\n",
       "    &lt;script src=&quot;https://code.jquery.com/jquery-1.12.4.min.js&quot;&gt;&lt;/script&gt;\n",
       "    &lt;script src=&quot;https://maxcdn.bootstrapcdn.com/bootstrap/3.2.0/js/bootstrap.min.js&quot;&gt;&lt;/script&gt;\n",
       "    &lt;script src=&quot;https://cdnjs.cloudflare.com/ajax/libs/Leaflet.awesome-markers/2.0.2/leaflet.awesome-markers.js&quot;&gt;&lt;/script&gt;\n",
       "    &lt;link rel=&quot;stylesheet&quot; href=&quot;https://cdn.jsdelivr.net/npm/leaflet@1.6.0/dist/leaflet.css&quot;/&gt;\n",
       "    &lt;link rel=&quot;stylesheet&quot; href=&quot;https://maxcdn.bootstrapcdn.com/bootstrap/3.2.0/css/bootstrap.min.css&quot;/&gt;\n",
       "    &lt;link rel=&quot;stylesheet&quot; href=&quot;https://maxcdn.bootstrapcdn.com/bootstrap/3.2.0/css/bootstrap-theme.min.css&quot;/&gt;\n",
       "    &lt;link rel=&quot;stylesheet&quot; href=&quot;https://maxcdn.bootstrapcdn.com/font-awesome/4.6.3/css/font-awesome.min.css&quot;/&gt;\n",
       "    &lt;link rel=&quot;stylesheet&quot; href=&quot;https://cdnjs.cloudflare.com/ajax/libs/Leaflet.awesome-markers/2.0.2/leaflet.awesome-markers.css&quot;/&gt;\n",
       "    &lt;link rel=&quot;stylesheet&quot; href=&quot;https://cdn.jsdelivr.net/gh/python-visualization/folium/folium/templates/leaflet.awesome.rotate.min.css&quot;/&gt;\n",
       "    \n",
       "            &lt;meta name=&quot;viewport&quot; content=&quot;width=device-width,\n",
       "                initial-scale=1.0, maximum-scale=1.0, user-scalable=no&quot; /&gt;\n",
       "            &lt;style&gt;\n",
       "                #map_e87bde3eac27e7d217db428b2f07567d {\n",
       "                    position: relative;\n",
       "                    width: 100.0%;\n",
       "                    height: 100.0%;\n",
       "                    left: 0.0%;\n",
       "                    top: 0.0%;\n",
       "                }\n",
       "            &lt;/style&gt;\n",
       "        \n",
       "&lt;/head&gt;\n",
       "&lt;body&gt;    \n",
       "    \n",
       "            &lt;div class=&quot;folium-map&quot; id=&quot;map_e87bde3eac27e7d217db428b2f07567d&quot; &gt;&lt;/div&gt;\n",
       "        \n",
       "&lt;/body&gt;\n",
       "&lt;script&gt;    \n",
       "    \n",
       "            var map_e87bde3eac27e7d217db428b2f07567d = L.map(\n",
       "                &quot;map_e87bde3eac27e7d217db428b2f07567d&quot;,\n",
       "                {\n",
       "                    center: [-19.26, 17.68],\n",
       "                    crs: L.CRS.EPSG3857,\n",
       "                    zoom: 6,\n",
       "                    zoomControl: true,\n",
       "                    preferCanvas: false,\n",
       "                }\n",
       "            );\n",
       "\n",
       "            \n",
       "\n",
       "        \n",
       "    \n",
       "            var tile_layer_b81e99ca486c0faeeff6b27c974a6bd5 = L.tileLayer(\n",
       "                &quot;http://mt1.google.com/vt/lyrs=y\\u0026z={z}\\u0026x={x}\\u0026y={y}&quot;,\n",
       "                {&quot;attribution&quot;: &quot;Google&quot;, &quot;detectRetina&quot;: false, &quot;maxNativeZoom&quot;: 18, &quot;maxZoom&quot;: 18, &quot;minZoom&quot;: 0, &quot;noWrap&quot;: false, &quot;opacity&quot;: 1, &quot;subdomains&quot;: &quot;abc&quot;, &quot;tms&quot;: false}\n",
       "            ).addTo(map_e87bde3eac27e7d217db428b2f07567d);\n",
       "        \n",
       "    \n",
       "            var poly_line_e1dd01e0b646169ee973f4b9a5e0ccf6 = L.polyline(\n",
       "                [[-22.26, 14.68], [-22.26, 20.68], [-16.26, 20.68], [-16.26, 14.68], [-22.26, 14.68]],\n",
       "                {&quot;bubblingMouseEvents&quot;: true, &quot;color&quot;: &quot;red&quot;, &quot;dashArray&quot;: null, &quot;dashOffset&quot;: null, &quot;fill&quot;: false, &quot;fillColor&quot;: &quot;red&quot;, &quot;fillOpacity&quot;: 0.2, &quot;fillRule&quot;: &quot;evenodd&quot;, &quot;lineCap&quot;: &quot;round&quot;, &quot;lineJoin&quot;: &quot;round&quot;, &quot;noClip&quot;: false, &quot;opacity&quot;: 0.8, &quot;smoothFactor&quot;: 1.0, &quot;stroke&quot;: true, &quot;weight&quot;: 3}\n",
       "            ).addTo(map_e87bde3eac27e7d217db428b2f07567d);\n",
       "        \n",
       "    \n",
       "                var lat_lng_popup_adb5b5d8da49ae1a72a9485c6fe01720 = L.popup();\n",
       "                function latLngPop(e) {\n",
       "                    lat_lng_popup_adb5b5d8da49ae1a72a9485c6fe01720\n",
       "                        .setLatLng(e.latlng)\n",
       "                        .setContent(&quot;Latitude: &quot; + e.latlng.lat.toFixed(4) +\n",
       "                                    &quot;&lt;br&gt;Longitude: &quot; + e.latlng.lng.toFixed(4))\n",
       "                        .openOn(map_e87bde3eac27e7d217db428b2f07567d);\n",
       "                    }\n",
       "                map_e87bde3eac27e7d217db428b2f07567d.on(&#x27;click&#x27;, latLngPop);\n",
       "            \n",
       "&lt;/script&gt;\" style=\"position:absolute;width:100%;height:100%;left:0;top:0;border:none !important;\" allowfullscreen webkitallowfullscreen mozallowfullscreen></iframe></div></div>"
      ],
      "text/plain": [
       "<folium.folium.Map at 0x7fba1c182bb0>"
      ]
     },
     "execution_count": 2,
     "metadata": {},
     "output_type": "execute_result"
    }
   ],
   "source": [
    "lat, lon = -19.26, 17.68\n",
    "\n",
    "buffer = 3\n",
    "\n",
    "#convert the lat,lon,buffer into a range\n",
    "lons = (lon - buffer, lon + buffer)\n",
    "lats = (lat - buffer, lat + buffer)\n",
    "\n",
    "%store lons\n",
    "%store lats\n",
    "\n",
    "display_map(x=lons, y=lats)"
   ]
  },
  {
   "cell_type": "markdown",
   "metadata": {},
   "source": [
    "---\n",
    "\n",
    "## Additional information\n",
    "\n",
    "**License:** The code in this notebook is licensed under the [Apache License, Version 2.0](https://www.apache.org/licenses/LICENSE-2.0). \n",
    "Digital Earth Africa data is licensed under the [Creative Commons by Attribution 4.0](https://creativecommons.org/licenses/by/4.0/) license.\n",
    "\n",
    "**Contact:** If you need assistance, please post a question on the [Open Data Cube Slack channel](http://slack.opendatacube.org/) or on the [GIS Stack Exchange](https://gis.stackexchange.com/questions/ask?tags=open-data-cube) using the `open-data-cube` tag (you can view previously asked questions [here](https://gis.stackexchange.com/questions/tagged/open-data-cube)).\n",
    "If you would like to report an issue with this notebook, you can file one on [Github](https://github.com/digitalearthafrica/deafrica-sandbox-notebooks).\n",
    "\n",
    "**Compatible datacube version:**"
   ]
  },
  {
   "cell_type": "code",
   "execution_count": 3,
   "metadata": {},
   "outputs": [
    {
     "name": "stdout",
     "output_type": "stream",
     "text": [
      "1.8.8\n"
     ]
    }
   ],
   "source": [
    "print(datacube.__version__)"
   ]
  },
  {
   "cell_type": "markdown",
   "metadata": {},
   "source": [
    "**Last Tested:**"
   ]
  },
  {
   "cell_type": "code",
   "execution_count": 4,
   "metadata": {},
   "outputs": [
    {
     "data": {
      "text/plain": [
       "'2023-04-13'"
      ]
     },
     "execution_count": 4,
     "metadata": {},
     "output_type": "execute_result"
    }
   ],
   "source": [
    "from datetime import datetime\n",
    "datetime.today().strftime('%Y-%m-%d')"
   ]
  }
 ],
 "metadata": {
  "kernelspec": {
   "display_name": "Python 3 (ipykernel)",
   "language": "python",
   "name": "python3"
  },
  "language_info": {
   "codemirror_mode": {
    "name": "ipython",
    "version": 3
   },
   "file_extension": ".py",
   "mimetype": "text/x-python",
   "name": "python",
   "nbconvert_exporter": "python",
   "pygments_lexer": "ipython3",
   "version": "3.8.10"
  },
  "widgets": {
   "application/vnd.jupyter.widget-state+json": {
    "state": {},
    "version_major": 2,
    "version_minor": 0
   }
  }
 },
 "nbformat": 4,
 "nbformat_minor": 4
}
